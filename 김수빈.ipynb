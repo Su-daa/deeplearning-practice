{
  "cells": [
    {
      "cell_type": "code",
      "execution_count": null,
      "metadata": {
        "colab": {
          "base_uri": "https://localhost:8080/"
        },
        "id": "KS1oXv5d68vt",
        "outputId": "f9b5d305-d7fd-4ddf-90bd-87fdb9f6b574"
      },
      "outputs": [
        {
          "output_type": "stream",
          "name": "stdout",
          "text": [
            "Hello world!\n"
          ]
        }
      ],
      "source": [
        "print(\"Hello world!\")"
      ]
    },
    {
      "cell_type": "code",
      "source": [
        "from google.colab import drive\n",
        "drive.mount('/content/drive')"
      ],
      "metadata": {
        "colab": {
          "base_uri": "https://localhost:8080/"
        },
        "id": "uvfDPWl58R8W",
        "outputId": "dee2d9dd-321b-48cd-89e0-0f56965c7ba3"
      },
      "execution_count": null,
      "outputs": [
        {
          "output_type": "stream",
          "name": "stdout",
          "text": [
            "Mounted at /content/drive\n"
          ]
        }
      ]
    },
    {
      "cell_type": "code",
      "source": [
        "x=5\n",
        "print(type(x))\n",
        "print(x+1)\n",
        "print(x-2)\n",
        "print(x*2)\n",
        "print(x/2)\n",
        "print(x//2)\n",
        "print(x%2)\n",
        "print(x**2)\n",
        "x += 1\n",
        "print(x)\n",
        "x *= 2\n",
        "print(x)"
      ],
      "metadata": {
        "colab": {
          "base_uri": "https://localhost:8080/"
        },
        "id": "HrrfmiOACNJ3",
        "outputId": "13d9c39b-9d44-4e6d-9508-74e7d67e6465"
      },
      "execution_count": null,
      "outputs": [
        {
          "output_type": "stream",
          "name": "stdout",
          "text": [
            "<class 'int'>\n",
            "6\n",
            "3\n",
            "10\n",
            "2.5\n",
            "2\n",
            "1\n",
            "25\n",
            "6\n",
            "12\n"
          ]
        }
      ]
    },
    {
      "cell_type": "code",
      "source": [
        "import sys\n",
        "print(sys.float_info.min)\n",
        "print(sys.float_info.max)"
      ],
      "metadata": {
        "colab": {
          "base_uri": "https://localhost:8080/"
        },
        "id": "tF3wIqcuQM8I",
        "outputId": "047aacd3-63ce-4c42-84f0-3326717a0efa"
      },
      "execution_count": null,
      "outputs": [
        {
          "output_type": "stream",
          "name": "stdout",
          "text": [
            "2.2250738585072014e-308\n",
            "1.7976931348623157e+308\n"
          ]
        }
      ]
    },
    {
      "cell_type": "code",
      "source": [
        "1.8e308"
      ],
      "metadata": {
        "colab": {
          "base_uri": "https://localhost:8080/"
        },
        "id": "rsV8VPZmQ9_1",
        "outputId": "0c6a40d3-e696-4298-9630-0588e0dbb413"
      },
      "execution_count": null,
      "outputs": [
        {
          "output_type": "execute_result",
          "data": {
            "text/plain": [
              "inf"
            ]
          },
          "metadata": {},
          "execution_count": 7
        }
      ]
    },
    {
      "cell_type": "code",
      "source": [
        "1e-324"
      ],
      "metadata": {
        "colab": {
          "base_uri": "https://localhost:8080/"
        },
        "id": "w5P3f4C4Rhdx",
        "outputId": "9fca56fa-118a-4fa3-87c9-23a145dba593"
      },
      "execution_count": null,
      "outputs": [
        {
          "output_type": "execute_result",
          "data": {
            "text/plain": [
              "0.0"
            ]
          },
          "metadata": {},
          "execution_count": 11
        }
      ]
    },
    {
      "cell_type": "code",
      "source": [
        "x=True\n",
        "print(x+1)"
      ],
      "metadata": {
        "colab": {
          "base_uri": "https://localhost:8080/"
        },
        "id": "zyicHJwdSWjz",
        "outputId": "5ceb7712-936a-4733-afef-4fda64fd5d96"
      },
      "execution_count": null,
      "outputs": [
        {
          "output_type": "stream",
          "name": "stdout",
          "text": [
            "2\n"
          ]
        }
      ]
    },
    {
      "cell_type": "code",
      "source": [
        "'abc'+'def' "
      ],
      "metadata": {
        "id": "Afw6LpxFUoiX",
        "outputId": "00db6e26-b61f-4bbe-90c9-eeeefc492c2f",
        "colab": {
          "base_uri": "https://localhost:8080/",
          "height": 35
        }
      },
      "execution_count": null,
      "outputs": [
        {
          "output_type": "execute_result",
          "data": {
            "application/vnd.google.colaboratory.intrinsic+json": {
              "type": "string"
            },
            "text/plain": [
              "'abcdef'"
            ]
          },
          "metadata": {},
          "execution_count": 17
        }
      ]
    },
    {
      "cell_type": "code",
      "source": [
        "'a'*3"
      ],
      "metadata": {
        "id": "fv6Jq2IlUrtW",
        "outputId": "e2244c45-4060-4431-ea3e-99ab3d07411a",
        "colab": {
          "base_uri": "https://localhost:8080/",
          "height": 35
        }
      },
      "execution_count": null,
      "outputs": [
        {
          "output_type": "execute_result",
          "data": {
            "application/vnd.google.colaboratory.intrinsic+json": {
              "type": "string"
            },
            "text/plain": [
              "'aaa'"
            ]
          },
          "metadata": {},
          "execution_count": 19
        }
      ]
    },
    {
      "cell_type": "code",
      "source": [
        "dir(str)"
      ],
      "metadata": {
        "id": "4qn2qUvH-BIj"
      },
      "execution_count": null,
      "outputs": []
    },
    {
      "cell_type": "code",
      "source": [
        "x=\"100\"\n",
        "y=int(x)\n",
        "z=float(x)\n",
        "print(x,y,z)"
      ],
      "metadata": {
        "colab": {
          "base_uri": "https://localhost:8080/"
        },
        "id": "uwh1_QjW-FPA",
        "outputId": "823c6ac2-6732-44e4-f4ff-fb0937fced61"
      },
      "execution_count": null,
      "outputs": [
        {
          "output_type": "stream",
          "name": "stdout",
          "text": [
            "100 100 100.0 68\n"
          ]
        }
      ]
    },
    {
      "cell_type": "code",
      "source": [
        "x=100\n",
        "print(\"You have \"+str(100)+\" Won, don\\'t you?\")"
      ],
      "metadata": {
        "colab": {
          "base_uri": "https://localhost:8080/"
        },
        "id": "TK23DVfpDxzz",
        "outputId": "66ccbc6c-e9d4-474c-bfb5-ff3a5a76fcdf"
      },
      "execution_count": null,
      "outputs": [
        {
          "output_type": "stream",
          "name": "stdout",
          "text": [
            "You have 100 Won, don't you?\n"
          ]
        }
      ]
    },
    {
      "cell_type": "code",
      "source": [
        "print(\"a\\nb\\tc\\\"d\\\\e\\'f\")"
      ],
      "metadata": {
        "colab": {
          "base_uri": "https://localhost:8080/"
        },
        "id": "EnsoNzFZAuKl",
        "outputId": "f6b0162f-2d81-4e0c-abc2-2237ab4dca05"
      },
      "execution_count": null,
      "outputs": [
        {
          "output_type": "stream",
          "name": "stdout",
          "text": [
            "a\n",
            "b\tc\"d\\e'f\n"
          ]
        }
      ]
    },
    {
      "cell_type": "code",
      "source": [
        "x=input(\"Enter a word  \")\n",
        "print(\"your word \\'%s\\' has a length of %d\" % (x,len(x)))"
      ],
      "metadata": {
        "colab": {
          "base_uri": "https://localhost:8080/"
        },
        "id": "I81GzXXEAzGG",
        "outputId": "2da9bdcd-6b50-44c5-a272-15889f7ab9a1"
      },
      "execution_count": null,
      "outputs": [
        {
          "output_type": "stream",
          "name": "stdout",
          "text": [
            "Enter a word  hello\n",
            "your word 'hello' has a length of 5\n"
          ]
        }
      ]
    },
    {
      "cell_type": "code",
      "source": [
        "import math\n",
        "p=math.pi\n",
        "x= input(\"Enter the diameter of a circle: \")\n",
        "y=p*float(x)\n",
        "\n",
        "print(\"The circumference of the circle is %.3f\" %y)"
      ],
      "metadata": {
        "colab": {
          "base_uri": "https://localhost:8080/"
        },
        "id": "w9PTm5iMDTFF",
        "outputId": "bdd338a5-b0d6-4a12-9069-b15c73317388"
      },
      "execution_count": null,
      "outputs": [
        {
          "output_type": "stream",
          "name": "stdout",
          "text": [
            "Enter the diameter of a circle: 10\n",
            "The circumference of the circle is 31.416\n"
          ]
        }
      ]
    },
    {
      "cell_type": "code",
      "source": [
        "#리스트\n",
        "xs=list(range(5))\n",
        "print(xs)\n",
        "print(xs[0],xs[-1])\n",
        "xs[2]=\"two\"\n",
        "print(xs)\n",
        "xs.append('five')\n",
        "print(xs)\n",
        "xs.insert(1,'insert')\n",
        "print(xs)\n",
        "xs[4]+=10\n",
        "print(xs[4])\n",
        "del xs[0]\n",
        "print(xs)\n",
        "del xs[0]\n",
        "print(xs)"
      ],
      "metadata": {
        "id": "bAcr28v9Giho",
        "colab": {
          "base_uri": "https://localhost:8080/"
        },
        "outputId": "7bfdeafa-73be-46e6-ed02-e0d1c4d5648f"
      },
      "execution_count": null,
      "outputs": [
        {
          "output_type": "stream",
          "name": "stdout",
          "text": [
            "[0, 1, 2, 3, 4]\n",
            "0 4\n",
            "[0, 1, 'two', 3, 4]\n",
            "[0, 1, 'two', 3, 4, 'five']\n",
            "[0, 'insert', 1, 'two', 3, 4, 'five']\n",
            "13\n",
            "['insert', 1, 'two', 13, 4, 'five']\n",
            "[1, 'two', 13, 4, 'five']\n"
          ]
        }
      ]
    },
    {
      "cell_type": "code",
      "source": [
        "a=['b','c','d']\n",
        "b=['a']\n",
        "c=['a','d']\n",
        "d=['a','c']\n",
        "dic={'a':a,'b':b,'c':c,'d':d}\n",
        "\n",
        "for x in dic:\n",
        "  print(dic[x])"
      ],
      "metadata": {
        "colab": {
          "base_uri": "https://localhost:8080/"
        },
        "id": "qtZ5oE1pQe8G",
        "outputId": "d84dc0ab-66f5-4fec-c21d-cb0d793ac9a8"
      },
      "execution_count": null,
      "outputs": [
        {
          "output_type": "stream",
          "name": "stdout",
          "text": [
            "['b', 'c', 'd']\n",
            "['a']\n",
            "['a', 'd']\n",
            "['a', 'c']\n"
          ]
        }
      ]
    },
    {
      "cell_type": "code",
      "source": [
        "a=[0,1,[10,20]]\n",
        "b=a\n",
        "b[0]='hello'\n",
        "b[-1][0]*=-1\n",
        "print(a,b)"
      ],
      "metadata": {
        "colab": {
          "base_uri": "https://localhost:8080/"
        },
        "id": "LlUjho_fJyYd",
        "outputId": "a984f0ad-0abb-441a-b7b2-70dcf94b430a"
      },
      "execution_count": null,
      "outputs": [
        {
          "output_type": "stream",
          "name": "stdout",
          "text": [
            "['hello', 1, [-10, 20]] ['hello', 1, [-10, 20]]\n"
          ]
        }
      ]
    },
    {
      "cell_type": "markdown",
      "source": [
        "4주차(3.24)"
      ],
      "metadata": {
        "id": "5At2J04vIsw3"
      }
    },
    {
      "cell_type": "code",
      "source": [
        "5==5, 5==6, 1>0, 1<0 #튜플 형식"
      ],
      "metadata": {
        "colab": {
          "base_uri": "https://localhost:8080/"
        },
        "id": "lUpd9W2vHn1s",
        "outputId": "b0f6d67a-14c4-4fa0-f05e-bbcfcce81778"
      },
      "execution_count": 3,
      "outputs": [
        {
          "output_type": "execute_result",
          "data": {
            "text/plain": [
              "(True, False, True, False)"
            ]
          },
          "metadata": {},
          "execution_count": 3
        }
      ]
    },
    {
      "cell_type": "code",
      "source": [
        "x=int(input(\"Enter a numver: \"))\n",
        "if x==0:\n",
        "  print(\"Your number is zero!\")"
      ],
      "metadata": {
        "colab": {
          "base_uri": "https://localhost:8080/"
        },
        "id": "gVyz0p6DIUQX",
        "outputId": "df18ee96-5288-4574-e469-50d814fb65da"
      },
      "execution_count": 4,
      "outputs": [
        {
          "output_type": "stream",
          "name": "stdout",
          "text": [
            "Enter a numver: 0\n",
            "Your number is zero!\n"
          ]
        }
      ]
    },
    {
      "cell_type": "code",
      "source": [
        "x=int(input(\"Enter a number: \"))\n",
        "if x%2:    #홀수일때 나머지는 1이 된다, 1은 TRUE\n",
        "  print(x, \"is odd.\")\n",
        "else:\n",
        "  print(x, \"is eves.\")"
      ],
      "metadata": {
        "colab": {
          "base_uri": "https://localhost:8080/"
        },
        "id": "ryLmmBjdJge4",
        "outputId": "44c861c1-3aa1-4706-af9b-5a73bb4d1b3f"
      },
      "execution_count": 6,
      "outputs": [
        {
          "output_type": "stream",
          "name": "stdout",
          "text": [
            "Enter a number: 23232323232\n",
            "23232323232 is eves.\n"
          ]
        }
      ]
    },
    {
      "cell_type": "code",
      "source": [
        "x=int(input(\"Enter a number: \"))\n",
        "if x<0:\n",
        "  print(x,\"is a negative integer.\")\n",
        "elif x>0:\n",
        "  print(x, \"is a positive integer.\")\n",
        "else:\n",
        "  print(x, \"is zero\")"
      ],
      "metadata": {
        "colab": {
          "base_uri": "https://localhost:8080/"
        },
        "id": "rbiLeBfTKfbG",
        "outputId": "4cf218a9-b63e-4cf1-8989-c0d3ca966f27"
      },
      "execution_count": 8,
      "outputs": [
        {
          "output_type": "stream",
          "name": "stdout",
          "text": [
            "Enter a number: -5\n",
            "-5 is a negative integer.\n"
          ]
        }
      ]
    },
    {
      "cell_type": "code",
      "source": [
        "x=int(input(\"Enter a number: \"))\n",
        "\n",
        "if x>0:\n",
        "  if x<10:\n",
        "    print(x, \"is between 0 and 10.\\n\")\n",
        "\n",
        "if x>0 and x<10:\n",
        "  print(x, \"is between 0 and 10.\") "
      ],
      "metadata": {
        "colab": {
          "base_uri": "https://localhost:8080/"
        },
        "id": "LrGTSIe9Laqc",
        "outputId": "b9c32f2f-3a08-4d27-9cb8-53bff1610f48"
      },
      "execution_count": 13,
      "outputs": [
        {
          "output_type": "stream",
          "name": "stdout",
          "text": [
            "Enter a number: 5\n",
            "5 is between 0 and 10.\n",
            "\n",
            "5 is between 0 and 10.\n"
          ]
        }
      ]
    },
    {
      "cell_type": "code",
      "source": [
        "#while 반복문\n",
        "i=0\n",
        "while i<5:\n",
        "  i+=1\n",
        "  print(i)"
      ],
      "metadata": {
        "colab": {
          "base_uri": "https://localhost:8080/"
        },
        "id": "m11hoXaCMsIe",
        "outputId": "ed1068e8-5023-478a-ca97-8e4819436acb"
      },
      "execution_count": 14,
      "outputs": [
        {
          "output_type": "stream",
          "name": "stdout",
          "text": [
            "1\n",
            "2\n",
            "3\n",
            "4\n",
            "5\n"
          ]
        }
      ]
    },
    {
      "cell_type": "code",
      "source": [
        "i=0\n",
        "while i<5:\n",
        "  i+=1\n",
        "  print(i)\n",
        "else:\n",
        "  print(i)"
      ],
      "metadata": {
        "colab": {
          "base_uri": "https://localhost:8080/"
        },
        "id": "a7CDGxoBOEAX",
        "outputId": "07a5939f-c315-4f22-dd22-fb9a4193e66c"
      },
      "execution_count": 15,
      "outputs": [
        {
          "output_type": "stream",
          "name": "stdout",
          "text": [
            "1\n",
            "2\n",
            "3\n",
            "4\n",
            "5\n",
            "5\n"
          ]
        }
      ]
    },
    {
      "cell_type": "code",
      "source": [
        "i=0\n",
        "while i<10:\n",
        "  i+=1\n",
        "  if i==5:\n",
        "    break #주로 반복문 안의 조건문에 있다\n",
        "  print(i)"
      ],
      "metadata": {
        "colab": {
          "base_uri": "https://localhost:8080/"
        },
        "id": "hHI-UTvWOsM-",
        "outputId": "62c075f5-b044-4cff-831b-5c51c4566855"
      },
      "execution_count": 16,
      "outputs": [
        {
          "output_type": "stream",
          "name": "stdout",
          "text": [
            "1\n",
            "2\n",
            "3\n",
            "4\n"
          ]
        }
      ]
    },
    {
      "cell_type": "code",
      "source": [
        "i=0\n",
        "while i<10:\n",
        "  i+=1\n",
        "  if i%2: \n",
        "    continue  #홀수일때 그냥 건너뛰게 된다\n",
        "  print(i) #10도 출력된다는 점 주의"
      ],
      "metadata": {
        "colab": {
          "base_uri": "https://localhost:8080/"
        },
        "id": "YRkgj1m_PNcQ",
        "outputId": "7366e692-19a6-4950-e46f-7d71c49e22b5"
      },
      "execution_count": 21,
      "outputs": [
        {
          "output_type": "stream",
          "name": "stdout",
          "text": [
            "2\n",
            "4\n",
            "6\n",
            "8\n",
            "10\n"
          ]
        }
      ]
    }
  ],
  "metadata": {
    "colab": {
      "name": "김수빈.ipynb",
      "provenance": [],
      "collapsed_sections": []
    },
    "kernelspec": {
      "display_name": "Python 3",
      "name": "python3"
    },
    "language_info": {
      "name": "python"
    }
  },
  "nbformat": 4,
  "nbformat_minor": 0
}